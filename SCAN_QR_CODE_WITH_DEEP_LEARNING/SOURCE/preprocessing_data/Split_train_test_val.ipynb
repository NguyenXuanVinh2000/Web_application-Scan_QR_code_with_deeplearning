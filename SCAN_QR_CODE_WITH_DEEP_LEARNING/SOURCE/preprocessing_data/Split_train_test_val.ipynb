{
 "cells": [
  {
   "cell_type": "code",
   "execution_count": 1,
   "id": "364d3807",
   "metadata": {},
   "outputs": [],
   "source": [
    "import glob2\n",
    "import math  \n",
    "import os\n",
    "import numpy as np\n",
    "\n",
    "files = []\n",
    "for ext in [\"*.JPG\"]:\n",
    "  image_files = glob2.glob(os.path.join(ext))\n",
    "  files += image_files"
   ]
  },
  {
   "cell_type": "code",
   "execution_count": 2,
   "id": "6ec6e034",
   "metadata": {},
   "outputs": [
    {
     "data": {
      "text/plain": [
       "1714"
      ]
     },
     "execution_count": 2,
     "metadata": {},
     "output_type": "execute_result"
    }
   ],
   "source": [
    "len(files)"
   ]
  },
  {
   "cell_type": "code",
   "execution_count": 4,
   "id": "dd00195a",
   "metadata": {},
   "outputs": [],
   "source": [
    "len_val = round(0.15*len(files))\n",
    "len_test = round(0.15*len(files))"
   ]
  },
  {
   "cell_type": "code",
   "execution_count": 5,
   "id": "17b6b1d4",
   "metadata": {},
   "outputs": [],
   "source": [
    "rand_idx_val = np.random.randint(0, 500, len_val)\n",
    "rand_idx_test = np.random.randint(500, len(files), len_test)"
   ]
  },
  {
   "cell_type": "code",
   "execution_count": 6,
   "id": "ed113ee1",
   "metadata": {},
   "outputs": [],
   "source": [
    "val = []\n",
    "for i in rand_idx_val:\n",
    "  val.append(files[i])"
   ]
  },
  {
   "cell_type": "code",
   "execution_count": 7,
   "id": "38ce0d75",
   "metadata": {},
   "outputs": [],
   "source": [
    "test = []\n",
    "for i in rand_idx_test:\n",
    "  test.append(files[i])"
   ]
  },
  {
   "cell_type": "code",
   "execution_count": 15,
   "id": "18584459",
   "metadata": {},
   "outputs": [
    {
     "data": {
      "text/plain": [
       "205"
      ]
     },
     "execution_count": 15,
     "metadata": {},
     "output_type": "execute_result"
    }
   ],
   "source": [
    "len(val)"
   ]
  },
  {
   "cell_type": "code",
   "execution_count": 16,
   "id": "9337886e",
   "metadata": {},
   "outputs": [
    {
     "data": {
      "text/plain": [
       "231"
      ]
     },
     "execution_count": 16,
     "metadata": {},
     "output_type": "execute_result"
    }
   ],
   "source": [
    "len(test)"
   ]
  },
  {
   "cell_type": "code",
   "execution_count": 11,
   "id": "bbb1c7f3",
   "metadata": {},
   "outputs": [],
   "source": [
    "train = []\n",
    "for i in files:\n",
    "  if (i not in val) and (i not in test):\n",
    "    train.append(i)"
   ]
  },
  {
   "cell_type": "code",
   "execution_count": 17,
   "id": "fff8565e",
   "metadata": {},
   "outputs": [
    {
     "data": {
      "text/plain": [
       "1278"
      ]
     },
     "execution_count": 17,
     "metadata": {},
     "output_type": "execute_result"
    }
   ],
   "source": [
    "len(train)"
   ]
  },
  {
   "cell_type": "code",
   "execution_count": 13,
   "id": "b14ee961",
   "metadata": {},
   "outputs": [],
   "source": [
    "train = list(set(train))\n",
    "test = list(set(test))\n",
    "val = list(set(val))"
   ]
  },
  {
   "cell_type": "code",
   "execution_count": 14,
   "id": "767c3092",
   "metadata": {},
   "outputs": [
    {
     "data": {
      "text/plain": [
       "1714"
      ]
     },
     "execution_count": 14,
     "metadata": {},
     "output_type": "execute_result"
    }
   ],
   "source": [
    "len(val) + len(test) + len(train)"
   ]
  },
  {
   "cell_type": "markdown",
   "id": "8c0c6d80",
   "metadata": {},
   "source": [
    "# split file image"
   ]
  },
  {
   "cell_type": "code",
   "execution_count": 19,
   "id": "5f1dbe4b",
   "metadata": {},
   "outputs": [],
   "source": [
    "import cv2"
   ]
  },
  {
   "cell_type": "code",
   "execution_count": 20,
   "id": "df1150b0",
   "metadata": {},
   "outputs": [],
   "source": [
    "for i in val:\n",
    "  img = cv2.imread(i)\n",
    "  saving_path = \"G:/My Drive/KHOA_LUAN_TOT_NGHIEP/Data/Yolov5/images/val/\"\n",
    "  img = cv2.imwrite(saving_path + i,img)"
   ]
  },
  {
   "cell_type": "code",
   "execution_count": 21,
   "id": "4614d3c8",
   "metadata": {},
   "outputs": [],
   "source": [
    "for i in test:\n",
    "  img = cv2.imread(i)\n",
    "  saving_path = \"G:/My Drive/KHOA_LUAN_TOT_NGHIEP/Data/Yolov5/images/test/\"\n",
    "  img = cv2.imwrite(saving_path + i,img)"
   ]
  },
  {
   "cell_type": "code",
   "execution_count": 22,
   "id": "22f64156",
   "metadata": {},
   "outputs": [],
   "source": [
    "for i in train:\n",
    "  img = cv2.imread(i)\n",
    "  saving_path = \"G:/My Drive/KHOA_LUAN_TOT_NGHIEP/Data/Yolov5/images/train/\"\n",
    "  img = cv2.imwrite(saving_path + i,img)"
   ]
  },
  {
   "cell_type": "markdown",
   "id": "e75e411f",
   "metadata": {},
   "source": [
    "# Slit file label"
   ]
  },
  {
   "cell_type": "code",
   "execution_count": 35,
   "id": "9086c56d",
   "metadata": {},
   "outputs": [],
   "source": [
    "val_labels = []\n",
    "for i in val:\n",
    "    for j in i.split(\".\"):\n",
    "        text = j + \".txt\"\n",
    "        val_labels.append(text)\n",
    "for i in val:\n",
    "    val_labels.remove(\"JPG.txt\")"
   ]
  },
  {
   "cell_type": "code",
   "execution_count": 41,
   "id": "7e8d34f2",
   "metadata": {},
   "outputs": [],
   "source": [
    "test_labels = []\n",
    "for i in test:\n",
    "    for j in i.split(\".\"):\n",
    "        text = j + \".txt\"\n",
    "        test_labels.append(text)\n",
    "for i in test:\n",
    "    test_labels.remove(\"JPG.txt\")"
   ]
  },
  {
   "cell_type": "code",
   "execution_count": 43,
   "id": "d9b6d74c",
   "metadata": {},
   "outputs": [],
   "source": [
    "train_labels = []\n",
    "for i in train:\n",
    "    for j in i.split(\".\"):\n",
    "        text = j + \".txt\"\n",
    "        train_labels.append(text)\n",
    "for i in train:\n",
    "    train_labels.remove(\"JPG.txt\")"
   ]
  },
  {
   "cell_type": "code",
   "execution_count": null,
   "id": "efa6faf2",
   "metadata": {},
   "outputs": [],
   "source": [
    "import shutil"
   ]
  },
  {
   "cell_type": "code",
   "execution_count": 52,
   "id": "32e54e78",
   "metadata": {},
   "outputs": [],
   "source": [
    "for i in val_labels:\n",
    "    original = 'G:/My Drive/KHOA_LUAN_TOT_NGHIEP/Data/Raw/'+i\n",
    "    target = 'G:/My Drive/KHOA_LUAN_TOT_NGHIEP/Data/Yolov5/labels/val/'+i\n",
    "    shutil.copyfile(original, target)"
   ]
  },
  {
   "cell_type": "code",
   "execution_count": 53,
   "id": "df6deccb",
   "metadata": {},
   "outputs": [],
   "source": [
    "\n",
    "for i in test_labels:\n",
    "    original = 'G:/My Drive/KHOA_LUAN_TOT_NGHIEP/Data/Raw/'+i\n",
    "    target = 'G:/My Drive/KHOA_LUAN_TOT_NGHIEP/Data/Yolov5/labels/test/'+i\n",
    "    shutil.copyfile(original, target)"
   ]
  },
  {
   "cell_type": "code",
   "execution_count": 54,
   "id": "7ff4ca3e",
   "metadata": {},
   "outputs": [],
   "source": [
    "for i in train_labels:\n",
    "    original = 'G:/My Drive/KHOA_LUAN_TOT_NGHIEP/Data/Raw/'+i\n",
    "    target = 'G:/My Drive/KHOA_LUAN_TOT_NGHIEP/Data/Yolov5/labels/train/'+i\n",
    "    shutil.copyfile(original, target)"
   ]
  },
  {
   "cell_type": "code",
   "execution_count": null,
   "id": "96cb6297",
   "metadata": {},
   "outputs": [],
   "source": []
  }
 ],
 "metadata": {
  "kernelspec": {
   "display_name": "Python 3 (ipykernel)",
   "language": "python",
   "name": "python3"
  },
  "language_info": {
   "codemirror_mode": {
    "name": "ipython",
    "version": 3
   },
   "file_extension": ".py",
   "mimetype": "text/x-python",
   "name": "python",
   "nbconvert_exporter": "python",
   "pygments_lexer": "ipython3",
   "version": "3.9.10"
  }
 },
 "nbformat": 4,
 "nbformat_minor": 5
}
