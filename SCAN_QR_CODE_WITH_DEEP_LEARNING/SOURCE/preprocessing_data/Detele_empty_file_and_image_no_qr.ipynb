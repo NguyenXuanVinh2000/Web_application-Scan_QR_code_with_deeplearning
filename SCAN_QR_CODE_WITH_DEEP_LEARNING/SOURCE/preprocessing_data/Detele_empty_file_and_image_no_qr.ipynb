{
 "cells": [
  {
   "cell_type": "code",
   "execution_count": 3,
   "id": "44e4a24f",
   "metadata": {},
   "outputs": [],
   "source": [
    "import pandas as pd\n",
    "import numpy as np\n",
    "import glob2\n",
    "import math  \n",
    "import os\n",
    "import time\n",
    "import cv2\n",
    "import argparse\n"
   ]
  },
  {
   "cell_type": "code",
   "execution_count": 4,
   "id": "311bb7e9",
   "metadata": {},
   "outputs": [],
   "source": [
    "files = []\n",
    "for ext in [\"*.txt\"]:\n",
    "    text_files = glob2.glob(os.path.join(ext))\n",
    "    files += text_files"
   ]
  },
  {
   "cell_type": "code",
   "execution_count": 5,
   "id": "e3b94336",
   "metadata": {},
   "outputs": [],
   "source": [
    "import os\n",
    "lst_remove = []\n",
    "for i in files:\n",
    "        if (os.stat(i).st_size == 0):\n",
    "            lst_remove.append(i)"
   ]
  },
  {
   "cell_type": "code",
   "execution_count": 6,
   "id": "01e74f16",
   "metadata": {},
   "outputs": [
    {
     "data": {
      "text/plain": [
       "['13.txt',\n",
       " '38.txt',\n",
       " '95.txt',\n",
       " '133.txt',\n",
       " '134.txt',\n",
       " '135.txt',\n",
       " '136.txt',\n",
       " '140.txt',\n",
       " '159.txt',\n",
       " '181.txt',\n",
       " '269.txt',\n",
       " '272.txt',\n",
       " '344.txt',\n",
       " '369.txt',\n",
       " '371.txt',\n",
       " '382.txt',\n",
       " '390.txt',\n",
       " '513.txt',\n",
       " '578.txt',\n",
       " '580.txt',\n",
       " '582.txt',\n",
       " '584.txt',\n",
       " '641.txt',\n",
       " '674.txt',\n",
       " '693.txt',\n",
       " '694.txt',\n",
       " '699.txt',\n",
       " '716.txt',\n",
       " '913.txt',\n",
       " '975.txt',\n",
       " '1019.txt',\n",
       " '1038.txt',\n",
       " '1040.txt',\n",
       " '1053.txt',\n",
       " '1063.txt',\n",
       " '1064.txt',\n",
       " '1099.txt',\n",
       " '1105.txt',\n",
       " '1106.txt',\n",
       " '1125.txt',\n",
       " '1166.txt',\n",
       " '1194.txt',\n",
       " '1226.txt',\n",
       " '1234.txt',\n",
       " '1255.txt',\n",
       " '1258.txt',\n",
       " '1263.txt',\n",
       " '1270.txt',\n",
       " '1281.txt',\n",
       " '1302.txt',\n",
       " '1324.txt',\n",
       " '1517.txt',\n",
       " '1623.txt',\n",
       " '1630.txt',\n",
       " '1736.txt',\n",
       " '1753.txt',\n",
       " '1798.txt',\n",
       " '1801.txt',\n",
       " '1804.txt']"
      ]
     },
     "execution_count": 6,
     "metadata": {},
     "output_type": "execute_result"
    }
   ],
   "source": [
    "lst_remove"
   ]
  },
  {
   "cell_type": "code",
   "execution_count": 8,
   "id": "702caed5",
   "metadata": {},
   "outputs": [],
   "source": [
    "for i in lst_remove:\n",
    "    os.remove(i)"
   ]
  },
  {
   "cell_type": "code",
   "execution_count": 25,
   "id": "b09feaee",
   "metadata": {},
   "outputs": [],
   "source": [
    "image_remove = []\n",
    "for i in lst_remove:\n",
    "    for j in i.split(\".\"):\n",
    "        text = j + \".JPG\"\n",
    "        image_remove.append(text)"
   ]
  },
  {
   "cell_type": "code",
   "execution_count": 23,
   "id": "f1970f8a",
   "metadata": {},
   "outputs": [],
   "source": [
    "image_remove = image_remove.remove('txt.JPG')"
   ]
  },
  {
   "cell_type": "code",
   "execution_count": 28,
   "id": "92748ec9",
   "metadata": {},
   "outputs": [],
   "source": [
    "for i in image_remove:\n",
    "    if os.path.exists(i):\n",
    "        os.remove(i)"
   ]
  },
  {
   "cell_type": "code",
   "execution_count": null,
   "id": "d678cb8e",
   "metadata": {},
   "outputs": [],
   "source": []
  }
 ],
 "metadata": {
  "kernelspec": {
   "display_name": "Python 3 (ipykernel)",
   "language": "python",
   "name": "python3"
  },
  "language_info": {
   "codemirror_mode": {
    "name": "ipython",
    "version": 3
   },
   "file_extension": ".py",
   "mimetype": "text/x-python",
   "name": "python",
   "nbconvert_exporter": "python",
   "pygments_lexer": "ipython3",
   "version": "3.9.10"
  }
 },
 "nbformat": 4,
 "nbformat_minor": 5
}
