{
  "nbformat": 4,
  "nbformat_minor": 0,
  "metadata": {
    "accelerator": "GPU",
    "colab": {
      "name": "YOLOV4tiny_TRAIN.ipynb",
      "provenance": [],
      "collapsed_sections": [],
      "machine_shape": "hm"
    },
    "kernelspec": {
      "display_name": "Python 3",
      "name": "python3"
    },
    "language_info": {
      "name": "python"
    }
  },
  "cells": [
    {
      "cell_type": "code",
      "source": [
        "from google.colab import drive\n",
        "drive.mount('/content/drive')"
      ],
      "metadata": {
        "id": "aIikT3-kXU4v"
      },
      "execution_count": null,
      "outputs": []
    },
    {
      "cell_type": "code",
      "metadata": {
        "id": "C5C5Vs4ylHbx"
      },
      "source": [
        "#Clone thư mục darknet\n",
        "!rm -rf darknet\n",
        "%cd /content/drive/MyDrive/KLTN/YOLOv3\n",
        "!git clone https://github.com/pjreddie/darknet\n",
        "%cd /content/drive/MyDrive/KLTN/YOLOv3/darknet"
      ],
      "execution_count": null,
      "outputs": []
    },
    {
      "cell_type": "code",
      "metadata": {
        "id": "5QT6messPyRu"
      },
      "source": [
        "#Tạo thư mục backup và chỉnh sửa file yolo.data\n",
        "%cd /content/drive/MyDrive/KLTN/YOLOv3/darknet\n",
        "!mkdir backup\n",
        "!echo classes=1 > yolo.data\n",
        "!echo train=train.txt >> yolo.data\n",
        "!echo valid=val.txt >> yolo.data\n",
        "!echo names=yolo.names >> yolo.data\n",
        "!echo backup=backup >> yolo.data"
      ],
      "execution_count": null,
      "outputs": []
    },
    {
      "cell_type": "code",
      "metadata": {
        "id": "d2Ftkro5P18Q"
      },
      "source": [
        "#Chạy Makefile\n",
        "%cd /content/drive/MyDrive/KLTN/YOLOv3/darknet\n",
        "!rm darknet\n",
        "!make"
      ],
      "execution_count": null,
      "outputs": []
    },
    {
      "cell_type": "code",
      "metadata": {
        "id": "Lhhusw7EQ9JL"
      },
      "source": [
        "#Tải file weights yolov4.conv.137 để huấn luyện lần đầu\n",
        "%cd /content/drive/MyDrive/KLTN/YOLOv3/darknet\n",
        "!wget https://pjreddie.com/media/files/darknet53.conv.74"
      ],
      "execution_count": null,
      "outputs": []
    },
    {
      "cell_type": "code",
      "metadata": {
        "id": "CNuAVqabRCom"
      },
      "source": [
        "#Huấn luyện lần đầu ở lệnh 1 và khi ngắt kết nối huấn luyện tiếp bằng lệnh 2\n",
        "#!./darknet detector train yolo.data cfg/yolov3-custom.cfg darknet53.conv.74 -dont_show -map\n",
        "!./darknet detector train yolo.data cfg/yolov3-custom.cfg backup/yolov3-custom_last.weights -dont_show -map"
      ],
      "execution_count": null,
      "outputs": []
    }
  ]
}